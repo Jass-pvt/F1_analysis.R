{
  "nbformat": 4,
  "nbformat_minor": 0,
  "metadata": {
    "colab": {
      "provenance": []
    },
    "kernelspec": {
      "name": "ir",
      "display_name": "R"
    },
    "language_info": {
      "name": "R"
    }
  },
  "cells": [
    {
      "cell_type": "code",
      "execution_count": null,
      "metadata": {
        "colab": {
          "base_uri": "https://localhost:8080/"
        },
        "id": "k-cJJF6OrjO2",
        "outputId": "526c5e41-1b60-4bd2-a1dc-eb0566cc211b"
      },
      "outputs": [
        {
          "output_type": "stream",
          "name": "stderr",
          "text": [
            "Installing package into ‘/usr/local/lib/R/site-library’\n",
            "(as ‘lib’ is unspecified)\n",
            "\n",
            "Installing package into ‘/usr/local/lib/R/site-library’\n",
            "(as ‘lib’ is unspecified)\n",
            "\n"
          ]
        },
        {
          "output_type": "stream",
          "name": "stdout",
          "text": [
            "\n",
            "Call:\n",
            " randomForest(formula = as.factor(win) ~ ., data = train_data,      ntree = 100) \n",
            "               Type of random forest: classification\n",
            "                     Number of trees: 100\n",
            "No. of variables tried at each split: 2\n",
            "\n",
            "        OOB estimate of  error rate: 25.75%\n",
            "Confusion matrix:\n",
            "    0 1 class.error\n",
            "0 296 9   0.0295082\n",
            "1  94 1   0.9894737\n",
            "=============================================\n",
            "Formula One Car Winning Chance Prediction\n",
            "=============================================\n",
            "Winning Probability: 6 %\n",
            "Losing Probability : 94 %\n"
          ]
        }
      ],
      "source": [
        "install.packages(\"randomForest\")\n",
        "install.packages(\"dplyr\")\n",
        "library(randomForest)\n",
        "library(dplyr)\n",
        "\n",
        "library(randomForest)\n",
        "library(dplyr)\n",
        "\n",
        "data <- read.csv(\"formula1_dataset.csv\")\n",
        "data$tyre_type <- as.factor(data$tyre_type)\n",
        "\n",
        "set.seed(42)\n",
        "sample_idx <- sample(1:nrow(data), 0.8 * nrow(data))\n",
        "train_data <- data[sample_idx, ]\n",
        "test_data <- data[-sample_idx, ]\n",
        "\n",
        "model <- randomForest(as.factor(win) ~ ., data = train_data, ntree = 100)\n",
        "print(model)\n",
        "\n",
        "new_car <- data.frame(\n",
        "  tyre_degradation = 35,\n",
        "  track_temp = 42,\n",
        "  fuel_level = 30,\n",
        "  driver_performance = 8.5,\n",
        "  team_strategy_score = 9,\n",
        "  tyre_type = factor(\"Soft\", levels = c(\"Soft\", \"Medium\", \"Hard\")),\n",
        "  laps_remaining = 15,\n",
        "  pit_stop_count = 1\n",
        ")\n",
        "\n",
        "prediction <- predict(model, newdata = new_car, type = \"prob\")\n",
        "\n",
        "cat(\"=============================================\\n\")\n",
        "cat(\"Formula One Car Winning Chance Prediction\\n\")\n",
        "cat(\"=============================================\\n\")\n",
        "cat(\"Winning Probability:\", round(prediction[2] * 100, 2), \"%\\n\")\n",
        "cat(\"Losing Probability :\", round(prediction[1] * 100, 2), \"%\\n\")"
      ]
    }
  ]
}